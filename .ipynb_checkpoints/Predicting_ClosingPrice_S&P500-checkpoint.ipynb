{
 "cells": [
  {
   "cell_type": "markdown",
   "metadata": {},
   "source": [
    "# Predicting Stock Prices\n",
    "\n",
    "Code generated from Youtube channel of Siraj Raval. See link: https://www.youtube.com/watch?v=ftMq5ps503w\n",
    "\n",
    "Prediction closing price of S&P500 using LSTM network"
   ]
  },
  {
   "cell_type": "code",
   "execution_count": 1,
   "metadata": {
    "collapsed": false
   },
   "outputs": [
    {
     "name": "stderr",
     "output_type": "stream",
     "text": [
      "Using TensorFlow backend.\n"
     ]
    }
   ],
   "source": [
    "import datetime\n",
    "from pandas_datareader import data\n",
    "from keras.layers.core import Dense, Activation, Dropout\n",
    "from keras.layers.recurrent import LSTM\n",
    "from keras.models import Sequential\n",
    "import lstm, time #helper libraries"
   ]
  },
  {
   "cell_type": "markdown",
   "metadata": {},
   "source": [
    "## Importing and cleaning data"
   ]
  },
  {
   "cell_type": "code",
   "execution_count": 2,
   "metadata": {
    "collapsed": false
   },
   "outputs": [],
   "source": [
    "# Read Ticker Data from Yahoo\n",
    "start = datetime.datetime(2001, 1, 1)\n",
    "end = datetime.datetime(2017, 1, 1)\n",
    "ticker_sym = \"^GSPC\"\n",
    "\n",
    "ticker_data = data.DataReader(ticker_sym, 'yahoo', start, end)\n",
    "#ticker_data[\"rets\"] = ticker_data[\"Adj Close\"].pct_change()\n",
    "ticker_data[\"Volume\"] = ticker_data[\"Volume\"].astype('Float64')\n",
    "ticker_data.replace(to_replace='NaN', value=0, inplace=True)"
   ]
  },
  {
   "cell_type": "code",
   "execution_count": 18,
   "metadata": {
    "collapsed": false
   },
   "outputs": [
    {
     "data": {
      "text/html": [
       "<div>\n",
       "<table border=\"1\" class=\"dataframe\">\n",
       "  <thead>\n",
       "    <tr style=\"text-align: right;\">\n",
       "      <th></th>\n",
       "      <th>Open</th>\n",
       "      <th>High</th>\n",
       "      <th>Low</th>\n",
       "      <th>Close</th>\n",
       "      <th>Volume</th>\n",
       "      <th>Adj Close</th>\n",
       "    </tr>\n",
       "  </thead>\n",
       "  <tbody>\n",
       "    <tr>\n",
       "      <th>count</th>\n",
       "      <td>4025.000000</td>\n",
       "      <td>4025.000000</td>\n",
       "      <td>4025.000000</td>\n",
       "      <td>4025.000000</td>\n",
       "      <td>4.025000e+03</td>\n",
       "      <td>4025.000000</td>\n",
       "    </tr>\n",
       "    <tr>\n",
       "      <th>mean</th>\n",
       "      <td>1372.709349</td>\n",
       "      <td>1380.982987</td>\n",
       "      <td>1363.801700</td>\n",
       "      <td>1372.926283</td>\n",
       "      <td>3.139220e+09</td>\n",
       "      <td>1372.926283</td>\n",
       "    </tr>\n",
       "    <tr>\n",
       "      <th>std</th>\n",
       "      <td>372.095835</td>\n",
       "      <td>372.038163</td>\n",
       "      <td>372.151102</td>\n",
       "      <td>372.250755</td>\n",
       "      <td>1.531605e+09</td>\n",
       "      <td>372.250755</td>\n",
       "    </tr>\n",
       "    <tr>\n",
       "      <th>min</th>\n",
       "      <td>679.280029</td>\n",
       "      <td>695.270020</td>\n",
       "      <td>666.789978</td>\n",
       "      <td>676.530029</td>\n",
       "      <td>3.560700e+08</td>\n",
       "      <td>676.530029</td>\n",
       "    </tr>\n",
       "    <tr>\n",
       "      <th>25%</th>\n",
       "      <td>1119.359985</td>\n",
       "      <td>1125.500000</td>\n",
       "      <td>1112.670044</td>\n",
       "      <td>1118.859985</td>\n",
       "      <td>1.674000e+09</td>\n",
       "      <td>1118.859985</td>\n",
       "    </tr>\n",
       "    <tr>\n",
       "      <th>50%</th>\n",
       "      <td>1275.650024</td>\n",
       "      <td>1282.739990</td>\n",
       "      <td>1266.739990</td>\n",
       "      <td>1275.530029</td>\n",
       "      <td>3.177710e+09</td>\n",
       "      <td>1275.530029</td>\n",
       "    </tr>\n",
       "    <tr>\n",
       "      <th>75%</th>\n",
       "      <td>1525.750000</td>\n",
       "      <td>1532.459961</td>\n",
       "      <td>1519.750000</td>\n",
       "      <td>1525.750000</td>\n",
       "      <td>4.051570e+09</td>\n",
       "      <td>1525.750000</td>\n",
       "    </tr>\n",
       "    <tr>\n",
       "      <th>max</th>\n",
       "      <td>2270.540039</td>\n",
       "      <td>2277.530029</td>\n",
       "      <td>2266.149902</td>\n",
       "      <td>2271.719971</td>\n",
       "      <td>1.145623e+10</td>\n",
       "      <td>2271.719971</td>\n",
       "    </tr>\n",
       "  </tbody>\n",
       "</table>\n",
       "</div>"
      ],
      "text/plain": [
       "              Open         High          Low        Close        Volume  \\\n",
       "count  4025.000000  4025.000000  4025.000000  4025.000000  4.025000e+03   \n",
       "mean   1372.709349  1380.982987  1363.801700  1372.926283  3.139220e+09   \n",
       "std     372.095835   372.038163   372.151102   372.250755  1.531605e+09   \n",
       "min     679.280029   695.270020   666.789978   676.530029  3.560700e+08   \n",
       "25%    1119.359985  1125.500000  1112.670044  1118.859985  1.674000e+09   \n",
       "50%    1275.650024  1282.739990  1266.739990  1275.530029  3.177710e+09   \n",
       "75%    1525.750000  1532.459961  1519.750000  1525.750000  4.051570e+09   \n",
       "max    2270.540039  2277.530029  2266.149902  2271.719971  1.145623e+10   \n",
       "\n",
       "         Adj Close  \n",
       "count  4025.000000  \n",
       "mean   1372.926283  \n",
       "std     372.250755  \n",
       "min     676.530029  \n",
       "25%    1118.859985  \n",
       "50%    1275.530029  \n",
       "75%    1525.750000  \n",
       "max    2271.719971  "
      ]
     },
     "execution_count": 18,
     "metadata": {},
     "output_type": "execute_result"
    }
   ],
   "source": [
    "ticker_data.describe()"
   ]
  },
  {
   "cell_type": "code",
   "execution_count": 19,
   "metadata": {
    "collapsed": false
   },
   "outputs": [
    {
     "data": {
      "text/html": [
       "<div>\n",
       "<table border=\"1\" class=\"dataframe\">\n",
       "  <thead>\n",
       "    <tr style=\"text-align: right;\">\n",
       "      <th></th>\n",
       "      <th>Open</th>\n",
       "      <th>High</th>\n",
       "      <th>Low</th>\n",
       "      <th>Close</th>\n",
       "      <th>Volume</th>\n",
       "      <th>Adj Close</th>\n",
       "    </tr>\n",
       "    <tr>\n",
       "      <th>Date</th>\n",
       "      <th></th>\n",
       "      <th></th>\n",
       "      <th></th>\n",
       "      <th></th>\n",
       "      <th></th>\n",
       "      <th></th>\n",
       "    </tr>\n",
       "  </thead>\n",
       "  <tbody>\n",
       "    <tr>\n",
       "      <th>2001-01-02</th>\n",
       "      <td>1320.280029</td>\n",
       "      <td>1320.280029</td>\n",
       "      <td>1276.050049</td>\n",
       "      <td>1283.270020</td>\n",
       "      <td>1.129400e+09</td>\n",
       "      <td>1283.270020</td>\n",
       "    </tr>\n",
       "    <tr>\n",
       "      <th>2001-01-03</th>\n",
       "      <td>1283.270020</td>\n",
       "      <td>1347.760010</td>\n",
       "      <td>1274.619995</td>\n",
       "      <td>1347.560059</td>\n",
       "      <td>1.880700e+09</td>\n",
       "      <td>1347.560059</td>\n",
       "    </tr>\n",
       "    <tr>\n",
       "      <th>2001-01-04</th>\n",
       "      <td>1347.560059</td>\n",
       "      <td>1350.239990</td>\n",
       "      <td>1329.140015</td>\n",
       "      <td>1333.339966</td>\n",
       "      <td>2.131000e+09</td>\n",
       "      <td>1333.339966</td>\n",
       "    </tr>\n",
       "    <tr>\n",
       "      <th>2001-01-05</th>\n",
       "      <td>1333.339966</td>\n",
       "      <td>1334.770020</td>\n",
       "      <td>1294.949951</td>\n",
       "      <td>1298.349976</td>\n",
       "      <td>1.430800e+09</td>\n",
       "      <td>1298.349976</td>\n",
       "    </tr>\n",
       "    <tr>\n",
       "      <th>2001-01-08</th>\n",
       "      <td>1298.349976</td>\n",
       "      <td>1298.349976</td>\n",
       "      <td>1276.290039</td>\n",
       "      <td>1295.859985</td>\n",
       "      <td>1.115500e+09</td>\n",
       "      <td>1295.859985</td>\n",
       "    </tr>\n",
       "  </tbody>\n",
       "</table>\n",
       "</div>"
      ],
      "text/plain": [
       "                   Open         High          Low        Close        Volume  \\\n",
       "Date                                                                           \n",
       "2001-01-02  1320.280029  1320.280029  1276.050049  1283.270020  1.129400e+09   \n",
       "2001-01-03  1283.270020  1347.760010  1274.619995  1347.560059  1.880700e+09   \n",
       "2001-01-04  1347.560059  1350.239990  1329.140015  1333.339966  2.131000e+09   \n",
       "2001-01-05  1333.339966  1334.770020  1294.949951  1298.349976  1.430800e+09   \n",
       "2001-01-08  1298.349976  1298.349976  1276.290039  1295.859985  1.115500e+09   \n",
       "\n",
       "              Adj Close  \n",
       "Date                     \n",
       "2001-01-02  1283.270020  \n",
       "2001-01-03  1347.560059  \n",
       "2001-01-04  1333.339966  \n",
       "2001-01-05  1298.349976  \n",
       "2001-01-08  1295.859985  "
      ]
     },
     "execution_count": 19,
     "metadata": {},
     "output_type": "execute_result"
    }
   ],
   "source": [
    "ticker_data.head()"
   ]
  },
  {
   "cell_type": "code",
   "execution_count": 3,
   "metadata": {
    "collapsed": false
   },
   "outputs": [],
   "source": [
    "X_train, y_train, X_test, y_test = lstm.load_data_from_dataframe(ticker_data, 3, False)"
   ]
  },
  {
   "cell_type": "markdown",
   "metadata": {},
   "source": [
    "## Build the model with keras"
   ]
  },
  {
   "cell_type": "code",
   "execution_count": 4,
   "metadata": {
    "collapsed": false
   },
   "outputs": [],
   "source": [
    "import numpy\n",
    "import matplotlib.pyplot as plt\n",
    "import pandas\n",
    "import math\n",
    "import time\n",
    "from keras.models import Sequential\n",
    "from keras.layers import Dense\n",
    "from keras.layers import LSTM\n",
    "from keras.layers import Activation\n",
    "from keras.layers import Dropout\n",
    "from sklearn.preprocessing import MinMaxScaler\n",
    "from sklearn.metrics import mean_squared_error"
   ]
  },
  {
   "cell_type": "code",
   "execution_count": 6,
   "metadata": {
    "collapsed": false
   },
   "outputs": [
    {
     "name": "stdout",
     "output_type": "stream",
     "text": [
      "compilation time :  0.022992849349975586\n"
     ]
    }
   ],
   "source": [
    "batch_size = 1\n",
    "\n",
    "model = Sequential()\n",
    "\n",
    "model.add(LSTM(    \n",
    "    input_dim=1,\n",
    "    output_dim=50,\n",
    "    return_sequences=True))\n",
    "model.add(Dropout(0.2))\n",
    "\n",
    "#model.add(LSTM(4, batch_input_shape=(batch_size, look_back, 1), stateful=True))\n",
    "\n",
    "model.add(LSTM(\n",
    "    100,\n",
    "    return_sequences=False))\n",
    "model.add(Dropout(0.2))\n",
    "\n",
    "model.add(Dense(\n",
    "    output_dim = 1))\n",
    "model.add(Activation('linear'))\n",
    "\n",
    "start = time.time()\n",
    "model.compile(loss='mse', optimizer='rmsprop')\n",
    "print ('compilation time : ', time.time() - start)"
   ]
  },
  {
   "cell_type": "markdown",
   "metadata": {},
   "source": [
    "## Train the model"
   ]
  },
  {
   "cell_type": "code",
   "execution_count": 11,
   "metadata": {
    "collapsed": false
   },
   "outputs": [
    {
     "name": "stdout",
     "output_type": "stream",
     "text": [
      "Train on 3438 samples, validate on 181 samples\n",
      "Epoch 1/1\n",
      "3438/3438 [==============================] - 1s - loss: 1639793.3879 - val_loss: 4190274.0000\b\b\b\b\b\b\b\b\b\b\b\b\b\b\b\b\b\b\b\b\b\b\b\b\b\b\b\b\b\b\b\b\b\b\b\b\b\b\b\b\b\b\b\b\b\b\b\b\b\b\b\b\b\n"
     ]
    },
    {
     "data": {
      "text/plain": [
       "<keras.callbacks.History at 0x1163d6e80>"
      ]
     },
     "execution_count": 11,
     "metadata": {},
     "output_type": "execute_result"
    }
   ],
   "source": [
    "model.fit(\n",
    "    X_train,\n",
    "    y_train,\n",
    "    batch_size = 2048,\n",
    "    epochs = 1,\n",
    "    validation_split = 0.05)"
   ]
  },
  {
   "cell_type": "markdown",
   "metadata": {},
   "source": [
    "## Make some predictions"
   ]
  },
  {
   "cell_type": "code",
   "execution_count": 12,
   "metadata": {
    "collapsed": false
   },
   "outputs": [
    {
     "ename": "NameError",
     "evalue": "name 'xrange' is not defined",
     "output_type": "error",
     "traceback": [
      "\u001b[0;31m---------------------------------------------------------------------------\u001b[0m",
      "\u001b[0;31mNameError\u001b[0m                                 Traceback (most recent call last)",
      "\u001b[0;32m<ipython-input-12-1606b01e143a>\u001b[0m in \u001b[0;36m<module>\u001b[0;34m()\u001b[0m\n\u001b[0;32m----> 1\u001b[0;31m \u001b[0mpredictions\u001b[0m \u001b[0;34m=\u001b[0m \u001b[0mlstm\u001b[0m\u001b[0;34m.\u001b[0m\u001b[0mpredict_sequences_multiple\u001b[0m\u001b[0;34m(\u001b[0m\u001b[0mmodel\u001b[0m\u001b[0;34m,\u001b[0m \u001b[0mX_test\u001b[0m\u001b[0;34m,\u001b[0m \u001b[0;36m50\u001b[0m\u001b[0;34m,\u001b[0m \u001b[0;36m50\u001b[0m\u001b[0;34m)\u001b[0m\u001b[0;34m\u001b[0m\u001b[0m\n\u001b[0m\u001b[1;32m      2\u001b[0m \u001b[0mlstm\u001b[0m\u001b[0;34m.\u001b[0m\u001b[0mplot_results_multiple\u001b[0m\u001b[0;34m(\u001b[0m\u001b[0mpredictions\u001b[0m\u001b[0;34m,\u001b[0m \u001b[0my_test\u001b[0m\u001b[0;34m,\u001b[0m \u001b[0;36m50\u001b[0m\u001b[0;34m)\u001b[0m\u001b[0;34m\u001b[0m\u001b[0m\n",
      "\u001b[0;32m/Users/bernhardmayr/Documents/Projekte/MachineLearning/Keras/Prediction_Stock_prices_seraj/lstm.py\u001b[0m in \u001b[0;36mpredict_sequences_multiple\u001b[0;34m(model, data, window_size, prediction_len)\u001b[0m\n\u001b[1;32m    110\u001b[0m     \u001b[0;31m#Predict sequence of 50 steps before shifting prediction run forward by 50 steps\u001b[0m\u001b[0;34m\u001b[0m\u001b[0;34m\u001b[0m\u001b[0m\n\u001b[1;32m    111\u001b[0m     \u001b[0mprediction_seqs\u001b[0m \u001b[0;34m=\u001b[0m \u001b[0;34m[\u001b[0m\u001b[0;34m]\u001b[0m\u001b[0;34m\u001b[0m\u001b[0m\n\u001b[0;32m--> 112\u001b[0;31m     \u001b[0;32mfor\u001b[0m \u001b[0mi\u001b[0m \u001b[0;32min\u001b[0m \u001b[0mxrange\u001b[0m\u001b[0;34m(\u001b[0m\u001b[0mlen\u001b[0m\u001b[0;34m(\u001b[0m\u001b[0mdata\u001b[0m\u001b[0;34m)\u001b[0m\u001b[0;34m/\u001b[0m\u001b[0mprediction_len\u001b[0m\u001b[0;34m)\u001b[0m\u001b[0;34m:\u001b[0m\u001b[0;34m\u001b[0m\u001b[0m\n\u001b[0m\u001b[1;32m    113\u001b[0m         \u001b[0mcurr_frame\u001b[0m \u001b[0;34m=\u001b[0m \u001b[0mdata\u001b[0m\u001b[0;34m[\u001b[0m\u001b[0mi\u001b[0m\u001b[0;34m*\u001b[0m\u001b[0mprediction_len\u001b[0m\u001b[0;34m]\u001b[0m\u001b[0;34m\u001b[0m\u001b[0m\n\u001b[1;32m    114\u001b[0m         \u001b[0mpredicted\u001b[0m \u001b[0;34m=\u001b[0m \u001b[0;34m[\u001b[0m\u001b[0;34m]\u001b[0m\u001b[0;34m\u001b[0m\u001b[0m\n",
      "\u001b[0;31mNameError\u001b[0m: name 'xrange' is not defined"
     ]
    }
   ],
   "source": [
    "predictions = lstm.predict_sequences_multiple(model, X_test, 50, 50)\n",
    "lstm.plot_results_multiple(predictions, y_test, 50)"
   ]
  }
 ],
 "metadata": {
  "kernelspec": {
   "display_name": "Python 3",
   "language": "python",
   "name": "python3"
  },
  "language_info": {
   "codemirror_mode": {
    "name": "ipython",
    "version": 3
   },
   "file_extension": ".py",
   "mimetype": "text/x-python",
   "name": "python",
   "nbconvert_exporter": "python",
   "pygments_lexer": "ipython3",
   "version": "3.6.0"
  }
 },
 "nbformat": 4,
 "nbformat_minor": 2
}
